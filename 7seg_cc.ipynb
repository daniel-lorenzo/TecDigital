{
 "cells": [
  {
   "cell_type": "markdown",
   "metadata": {},
   "source": [
    "## 7 segmentos cátodo común"
   ]
  },
  {
   "cell_type": "markdown",
   "metadata": {},
   "source": [
    "### Solución\n",
    "<table style=\"width:100%\">\n",
    "  <tr>\n",
    "      <th>\n",
    "$\\mbox{Tabla de verdad BCD a 7 segmentos cátodo común} \\\\\n",
    "\\begin{array}{|c|cccc|cccccccc|}\n",
    "\\hline\n",
    "disp & A & B & C & D & a & b & c & d & e & f & g \\\\\n",
    "\\hline\n",
    "0 & 0 & 0 & 0 & 0 & 1 & 1 & 1 & 1 & 1 & 1 & 0 \\\\\n",
    "1 & 0 & 0 & 0 & 1 & 0 & 1 & 1 & 0 & 0 & 0 & 0 \\\\\n",
    "2 & 0 & 0 & 1 & 0 & 1 & 1 & 0 & 1 & 1 & 0 & 1 \\\\\n",
    "3 & 0 & 0 & 1 & 1 & 1 & 1 & 1 & 1 & 0 & 0 & 1 \\\\\n",
    "4 & 0 & 1 & 0 & 0 & 0 & 1 & 1 & 0 & 0 & 1 & 1 \\\\\n",
    "5 & 0 & 1 & 0 & 1 & 1 & 0 & 1 & 1 & 0 & 1 & 1 \\\\\n",
    "6 & 0 & 1 & 1 & 0 & 1 & 0 & 1 & 1 & 1 & 1 & 1 \\\\\n",
    "7 & 0 & 1 & 1 & 1 & 1 & 1 & 1 & 0 & 0 & 0 & 0 \\\\\n",
    "8 & 1 & 0 & 0 & 0 & 1 & 1 & 1 & 1 & 1 & 1 & 1 \\\\\n",
    "9 & 1 & 0 & 0 & 1 & 1 & 1 & 1 & 1 & 0 & 1 & 1 \\\\\n",
    "\\hline\n",
    "\\end{array}$ </th>\n",
    "<th>\n",
    "     <img src=\"img/7seg.png\" alt=\"7seg.png\"> 7 segmentos\n",
    "     </th>\n",
    "    </tr>\n",
    "</table>"
   ]
  },
  {
   "cell_type": "markdown",
   "metadata": {},
   "source": [
    "### Segmento a\n",
    "<table style=\"width:100%\">\n",
    "    <tr>\n",
    "        <th>\n",
    "            Tabla de verdad\n",
    "        </th>\n",
    "        <th>\n",
    "            Mapa Karnaugh\n",
    "        </th>    \n",
    "    </tr>    \n",
    "    <tr>\n",
    "        <th> \n",
    "            <img src=\"img/7seg_cc_tab_a.png\" alt=\"7seg_cc_tab_a.png\">\n",
    "        </th>\n",
    "        <th>\n",
    "            <img src=\"img/7seg_cc_km_a.png\" alt=\"7seg_cc_km_a.png\">            \n",
    "        </th>\n",
    "    </tr>\n",
    "</table>"
   ]
  },
  {
   "cell_type": "markdown",
   "metadata": {},
   "source": [
    "__Circuito:__\n",
    "\n",
    "<center> <img src=\"img/7seg_cc_cir_a.png\" alt=\"7seg_cc_cir_a.png\"> </center>"
   ]
  },
  {
   "cell_type": "markdown",
   "metadata": {},
   "source": [
    "## Segmento b\n",
    "<table style=\"width:100%\">\n",
    "    <tr>\n",
    "        <th>\n",
    "            Tabla de verdad\n",
    "        </th>\n",
    "        <th>\n",
    "            Mapa Karnaugh\n",
    "        </th>    \n",
    "    </tr>    \n",
    "    <tr>\n",
    "        <th> \n",
    "            <img src=\"img/7seg_cc_tab_b.png\" alt=\"7seg_cc_tab_b.png\">\n",
    "        </th>\n",
    "        <th>\n",
    "            <img src=\"img/7seg_cc_km_b.png\" alt=\"7seg_cc_km_b.png\">            \n",
    "        </th>\n",
    "    </tr>\n",
    "</table>"
   ]
  },
  {
   "cell_type": "markdown",
   "metadata": {},
   "source": [
    "__Circuito:__\n",
    "\n",
    "<center> <img src=\"img/7seg_cc_cir_b.png\" alt=\"7seg_cc_cir_b.png\"> </center>"
   ]
  },
  {
   "cell_type": "markdown",
   "metadata": {},
   "source": [
    "## Segmento c\n",
    "<table style=\"width:100%\">\n",
    "    <tr>\n",
    "        <th>\n",
    "            Tabla de verdad\n",
    "        </th>\n",
    "        <th>\n",
    "            Mapa Karnaugh\n",
    "        </th>    \n",
    "    </tr>    \n",
    "    <tr>\n",
    "        <th> \n",
    "            <img src=\"img/7seg_cc_tab_c.png\" alt=\"7seg_cc_tab_c.png\">\n",
    "        </th>\n",
    "        <th>\n",
    "            <img src=\"img/7seg_cc_km_c.png\" alt=\"7seg_cc_km_c.png\">            \n",
    "        </th>\n",
    "    </tr>\n",
    "</table>"
   ]
  },
  {
   "cell_type": "markdown",
   "metadata": {},
   "source": [
    "__Circuito:__\n",
    "\n",
    "<center> <img src=\"img/7seg_cc_cir_c.png\" alt=\"7seg_cc_cir_c.png\"> </center>"
   ]
  },
  {
   "cell_type": "markdown",
   "metadata": {},
   "source": [
    "## Segmento d\n",
    "<table style=\"width:100%\">\n",
    "    <tr>\n",
    "        <th>\n",
    "            Tabla de verdad\n",
    "        </th>\n",
    "        <th>\n",
    "            Mapa Karnaugh\n",
    "        </th>    \n",
    "    </tr>    \n",
    "    <tr>\n",
    "        <th> \n",
    "            <img src=\"img/7seg_cc_tab_d.png\" alt=\"7seg_cc_tab_d.png\">\n",
    "        </th>\n",
    "        <th>\n",
    "            <img src=\"img/7seg_cc_km_d.png\" alt=\"7seg_cc_km_d.png\">            \n",
    "        </th>\n",
    "    </tr>\n",
    "</table>"
   ]
  },
  {
   "cell_type": "markdown",
   "metadata": {},
   "source": [
    "__Circuito:__\n",
    "\n",
    "<center> <img src=\"img/7seg_cc_cir_d.png\" alt=\"7seg_cc_cir_d.png\"> </center>"
   ]
  },
  {
   "cell_type": "markdown",
   "metadata": {},
   "source": [
    "## Segmento e\n",
    "<table style=\"width:100%\">\n",
    "    <tr>\n",
    "        <th>\n",
    "            Tabla de verdad\n",
    "        </th>\n",
    "        <th>\n",
    "            Mapa Karnaugh\n",
    "        </th>    \n",
    "    </tr>    \n",
    "    <tr>\n",
    "        <th> \n",
    "            <img src=\"img/7seg_cc_tab_e.png\" alt=\"7seg_cc_tab_e.png\">\n",
    "        </th>\n",
    "        <th>\n",
    "            <img src=\"img/7seg_cc_km_e.png\" alt=\"7seg_cc_km_e.png\">            \n",
    "        </th>\n",
    "    </tr>\n",
    "</table>"
   ]
  },
  {
   "cell_type": "markdown",
   "metadata": {},
   "source": [
    "__Circuito:__\n",
    "\n",
    "<center> <img src=\"img/7seg_cc_cir_e.png\" alt=\"7seg_cc_cir_e.png\"> </center>"
   ]
  },
  {
   "cell_type": "markdown",
   "metadata": {},
   "source": [
    "## Segmento f\n",
    "<table style=\"width:100%\">\n",
    "    <tr>\n",
    "        <th>\n",
    "            Tabla de verdad\n",
    "        </th>\n",
    "        <th>\n",
    "            Mapa Karnaugh\n",
    "        </th>    \n",
    "    </tr>    \n",
    "    <tr>\n",
    "        <th> \n",
    "            <img src=\"img/7seg_cc_tab_f.png\" alt=\"7seg_cc_tab_f.png\">\n",
    "        </th>\n",
    "        <th>\n",
    "            <img src=\"img/7seg_cc_km_f.png\" alt=\"7seg_cc_km_f.png\">            \n",
    "        </th>\n",
    "    </tr>\n",
    "</table>"
   ]
  },
  {
   "cell_type": "markdown",
   "metadata": {},
   "source": [
    "__Circuito:__\n",
    "\n",
    "<center> <img src=\"img/7seg_cc_cir_f.png\" alt=\"7seg_cc_cir_f.png\"> </center>"
   ]
  },
  {
   "cell_type": "markdown",
   "metadata": {},
   "source": [
    "## Segmento g\n",
    "<table style=\"width:100%\">\n",
    "    <tr>\n",
    "        <th>\n",
    "            Tabla de verdad\n",
    "        </th>\n",
    "        <th>\n",
    "            Soluciones\n",
    "        </th>    \n",
    "    </tr>    \n",
    "    <tr>\n",
    "        <th> \n",
    "            <img src=\"img/7seg_cc_tab_g.png\" alt=\"7seg_cc_tab_g.png\">\n",
    "        </th>\n",
    "        <th>\n",
    "            <img src=\"img/7seg_cc_sol_g.png\" alt=\"7seg_cc_sol_g.png\">\n",
    "        </th>\n",
    "    </tr>\n",
    "    <tr>\n",
    "        <th> \n",
    "            <img src=\"img/7seg_cc_km_g1.png\" alt=\"7seg_cc_km_g1.png\"> \n",
    "        </th>\n",
    "        <th>\n",
    "            <img src=\"img/7seg_cc_km_g2.png\" alt=\"7seg_cc_km_g2.png\">            \n",
    "        </th>\n",
    "    </tr>\n",
    "</table>"
   ]
  },
  {
   "cell_type": "markdown",
   "metadata": {},
   "source": [
    "__Circuito:__\n",
    "\n",
    "<center> <img src=\"img/7seg_cc_cir_g.png\" alt=\"7seg_cc_cir_g.png\"> </center>"
   ]
  },
  {
   "cell_type": "code",
   "execution_count": null,
   "metadata": {},
   "outputs": [],
   "source": []
  }
 ],
 "metadata": {
  "kernelspec": {
   "display_name": "Python 3",
   "language": "python",
   "name": "python3"
  },
  "language_info": {
   "codemirror_mode": {
    "name": "ipython",
    "version": 3
   },
   "file_extension": ".py",
   "mimetype": "text/x-python",
   "name": "python",
   "nbconvert_exporter": "python",
   "pygments_lexer": "ipython3",
   "version": "3.7.3"
  }
 },
 "nbformat": 4,
 "nbformat_minor": 2
}

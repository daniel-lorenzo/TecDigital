{
 "cells": [
  {
   "cell_type": "markdown",
   "metadata": {},
   "source": [
    "# Logic Gates in Python\n",
    "\n",
    "A Logic gate is an elementary building block of any digital circuits. It takes one or two inputs and produces output based on those inputs. Outputs may be high (1) or low (0). Logic gates are implemented using diodes or transistors. It can also be constructed using vacuum tubes, electromagnetic elements like optics, molecule etc. In a computer, most of the electronic circuits are made up logic gates. Logic gates are used to create a circuit that performs calculations, data storage or shows off object-oriented programming especially the power of inheritance.\n",
    "\n",
    "There are seven basic logic gates defined, these are: AND gate, OR gate, NOT gate, NAND gate, NOR gate , XOR gate and XNOR gate."
   ]
  },
  {
   "cell_type": "markdown",
   "metadata": {},
   "source": [
    "## AND Gate\n",
    "The AND gate gives an output of 1 if both the two inputs are 1, it gives 0 otherwise.\n",
    "\n",
    "![andpg](img/andpg.png)"
   ]
  },
  {
   "cell_type": "code",
   "execution_count": 23,
   "metadata": {},
   "outputs": [
    {
     "name": "stdout",
     "output_type": "stream",
     "text": [
      " +-------------+----------+\n",
      " |     AND     |          |\n",
      " | Truth Table |  Result  |\n",
      " |     A   B   |  A AND B |\n",
      " |     0   0   |    0     | \n",
      " |     0   1   |    0     | \n",
      " |     1   0   |    0     | \n",
      " |     1   1   |    1     | \n",
      " +-------------+----------+\n"
     ]
    }
   ],
   "source": [
    "# Python3 program to illustrate \n",
    "# working of AND gate \n",
    "  \n",
    "def AND (a, b): \n",
    "  \n",
    "    if a == 1 and b == 1: \n",
    "        return 1\n",
    "    else: \n",
    "        return 0\n",
    "\n",
    "# Driver code   \n",
    "if __name__=='__main__': \n",
    "\n",
    "    print(' +-------------+----------+') \n",
    "    print(' |     AND     |          |')\n",
    "    print(' | Truth Table |  Result  |') \n",
    "    print(' |     A   B   |  A AND B |')\n",
    "    print(' |     0   0   |   ',AND(0,0),'    | ') \n",
    "    print(' |     0   1   |   ',AND(0,1),'    | ') \n",
    "    print(' |     1   0   |   ',AND(1,0),'    | ') \n",
    "    print(' |     1   1   |   ',AND(1,1),'    | ') \n",
    "    print(' +-------------+----------+') "
   ]
  },
  {
   "cell_type": "markdown",
   "metadata": {},
   "source": [
    "## NAND GATE\n",
    "The NAND gate (negated AND) gives an output of 0 if both inputs are 1, it gives 1 otherwise.\n",
    "\n",
    "![nand.png](img/nand.png)"
   ]
  },
  {
   "cell_type": "code",
   "execution_count": 24,
   "metadata": {},
   "outputs": [
    {
     "name": "stdout",
     "output_type": "stream",
     "text": [
      " +-------------+----------+\n",
      " |    NAND     |          |\n",
      " | Truth Table |  Result  |\n",
      " |     A   B   | A NAND B |\n",
      " |     0   0   |    1     | \n",
      " |     0   1   |    1     | \n",
      " |     1   0   |    1     | \n",
      " |     1   1   |    0     | \n",
      " +-------------+----------+\n"
     ]
    }
   ],
   "source": [
    "# Python3 program to illustrate \n",
    "# working of NAND gate \n",
    "  \n",
    "def NAND (a, b): \n",
    "    if a == 1 and b == 1: \n",
    "        return 0\n",
    "    else: \n",
    "        return 1\n",
    "\n",
    "# Driver code \n",
    "if __name__=='__main__': \n",
    "\n",
    "    print(' +-------------+----------+') \n",
    "    print(' |    NAND     |          |')\n",
    "    print(' | Truth Table |  Result  |') \n",
    "    print(' |     A   B   | A NAND B |')\n",
    "    print(' |     0   0   |   ',NAND(0,0),'    | ') \n",
    "    print(' |     0   1   |   ',NAND(0,1),'    | ') \n",
    "    print(' |     1   0   |   ',NAND(1,0),'    | ') \n",
    "    print(' |     1   1   |   ',NAND(1,1),'    | ') \n",
    "    print(' +-------------+----------+')     "
   ]
  },
  {
   "cell_type": "markdown",
   "metadata": {},
   "source": [
    "## OR Gate\n",
    "The OR gate gives an output of 1 if either of the two inputs are 1, it gives 0 otherwise.\n",
    "\n",
    "![or-2.png](img/or-2.png)"
   ]
  },
  {
   "cell_type": "code",
   "execution_count": 25,
   "metadata": {},
   "outputs": [
    {
     "name": "stdout",
     "output_type": "stream",
     "text": [
      " +-------------+----------+\n",
      " |     OR      |          |\n",
      " | Truth Table |  Result  |\n",
      " |     A   B   |  A OR B  |\n",
      " |     0   0   |    0     | \n",
      " |     0   1   |    1     | \n",
      " |     1   0   |    1     | \n",
      " |     1   1   |    1     | \n",
      " +-------------+----------+\n"
     ]
    }
   ],
   "source": [
    "# Python3 program to illustrate \n",
    "# working of OR gate \n",
    "  \n",
    "def OR(a, b): \n",
    "    if a == 1: \n",
    "        return 1\n",
    "    elif b == 1: \n",
    "        return 1\n",
    "    else: \n",
    "        return 0\n",
    "\n",
    "# Driver code \n",
    "if __name__=='__main__': \n",
    "\n",
    "    print(' +-------------+----------+') \n",
    "    print(' |     OR      |          |')\n",
    "    print(' | Truth Table |  Result  |') \n",
    "    print(' |     A   B   |  A OR B  |')\n",
    "    print(' |     0   0   |   ',OR(0,0),'    | ') \n",
    "    print(' |     0   1   |   ',OR(0,1),'    | ') \n",
    "    print(' |     1   0   |   ',OR(1,0),'    | ') \n",
    "    print(' |     1   1   |   ',OR(1,1),'    | ') \n",
    "    print(' +-------------+----------+')     "
   ]
  },
  {
   "cell_type": "markdown",
   "metadata": {},
   "source": [
    "## XOR Gate\n",
    "The XOR gate gives an output of 1 if either both inputs are different, it gives 0 if they are same.\n",
    "![Xor.png](img/Xor.png)"
   ]
  },
  {
   "cell_type": "code",
   "execution_count": 29,
   "metadata": {},
   "outputs": [
    {
     "name": "stdout",
     "output_type": "stream",
     "text": [
      " +-------------+----------+\n",
      " |     XOR     |          |\n",
      " | Truth Table |  Result  |\n",
      " |     A   B   |  A OR B  |\n",
      " |     0   0   |    0     | \n",
      " |     0   1   |    1     | \n",
      " |     1   0   |    1     | \n",
      " |     1   1   |    0     | \n",
      " +-------------+----------+\n"
     ]
    }
   ],
   "source": [
    "# Python3 program to illustrate \n",
    "# working of XOR gate \n",
    "  \n",
    "def XOR(a, b): \n",
    "    if a != b: \n",
    "        return 1\n",
    "    else: \n",
    "        return 0\n",
    "\n",
    "# Driver code \n",
    "if __name__=='__main__': \n",
    "    print(' +-------------+----------+') \n",
    "    print(' |     XOR     |          |')\n",
    "    print(' | Truth Table |  Result  |') \n",
    "    print(' |     A   B   |  A OR B  |')\n",
    "    print(' |     0   0   |   ',XOR(0,0),'    | ') \n",
    "    print(' |     0   1   |   ',XOR(0,1),'    | ') \n",
    "    print(' |     1   0   |   ',XOR(1,0),'    | ') \n",
    "    print(' |     1   1   |   ',XOR(1,1),'    | ') \n",
    "    print(' +-------------+----------+')     "
   ]
  },
  {
   "cell_type": "markdown",
   "metadata": {},
   "source": [
    "## NOT Gate\n",
    "It acts as an inverter. It takes only one input. If the input is given as 1, it will invert the result as 0 and vice-versa.\n",
    "\n",
    "![Not.png](img/Not.png)"
   ]
  },
  {
   "cell_type": "code",
   "execution_count": 33,
   "metadata": {},
   "outputs": [
    {
     "name": "stdout",
     "output_type": "stream",
     "text": [
      " +-------------+----------+\n",
      " |     NOT     |          |\n",
      " | Truth Table |  Result  |\n",
      " |     A   B   |  A OR B  |\n",
      " |     0   0   |    1     | \n",
      " |     0   1   |    0     | \n",
      " +-------------+----------+\n"
     ]
    }
   ],
   "source": [
    "# Python3 program to illustrate \n",
    "# working of NOT gate \n",
    "\n",
    "def NOT(a): \n",
    "    if(a == 0): \n",
    "        return 1\n",
    "    elif(a == 1): \n",
    "        return 0\n",
    "    \n",
    "# Driver code \n",
    "if __name__=='__main__': \n",
    "    print(' +-------------+----------+') \n",
    "    print(' |     NOT     |          |')\n",
    "    print(' | Truth Table |  Result  |') \n",
    "    print(' |     A   B   |  A OR B  |')\n",
    "    print(' |     0   0   |   ',NOT(0),'    | ') \n",
    "    print(' |     0   1   |   ',NOT(1),'    | ') \n",
    "    print(' +-------------+----------+')     "
   ]
  },
  {
   "cell_type": "markdown",
   "metadata": {},
   "source": [
    "## NOR Gate\n",
    "The NOR gate (negated OR) gives an output of 1 if both inputs are 0, it gives 1 otherwise.\n",
    "\n",
    "![Nor.png](img/Nor.png)"
   ]
  },
  {
   "cell_type": "code",
   "execution_count": 35,
   "metadata": {},
   "outputs": [
    {
     "name": "stdout",
     "output_type": "stream",
     "text": [
      " +-------------+----------+\n",
      " |    NOR      |          |\n",
      " | Truth Table |  Result  |\n",
      " |     A   B   |  A NOR B |\n",
      " |     0   0   |    1     | \n",
      " |     0   1   |    0     | \n",
      " |     1   0   |    0     | \n",
      " |     1   1   |    0     | \n",
      " +-------------+----------+\n"
     ]
    }
   ],
   "source": [
    "# Python3 program to illustrate \n",
    "# working of NOR gate \n",
    "  \n",
    "def NOR(a, b): \n",
    "    if(a == 0) and (b == 0): \n",
    "        return 1\n",
    "    else: \n",
    "        return 0\n",
    "\n",
    "# Driver code \n",
    "if __name__=='__main__': \n",
    "\n",
    "    print(' +-------------+----------+') \n",
    "    print(' |    NOR      |          |')\n",
    "    print(' | Truth Table |  Result  |') \n",
    "    print(' |     A   B   |  A NOR B |')\n",
    "    print(' |     0   0   |   ',NOR(0,0),'    | ') \n",
    "    print(' |     0   1   |   ',NOR(0,1),'    | ') \n",
    "    print(' |     1   0   |   ',NOR(1,0),'    | ') \n",
    "    print(' |     1   1   |   ',NOR(1,1),'    | ') \n",
    "    print(' +-------------+----------+')     "
   ]
  },
  {
   "cell_type": "markdown",
   "metadata": {},
   "source": [
    "## XNOR Gate\n",
    "The XNOR gate (negated XOR) gives an output of 1 both inputs are same and 0 if both are different.\n",
    "\n",
    "![Xnor.png](img/Xnor.png)"
   ]
  },
  {
   "cell_type": "code",
   "execution_count": 36,
   "metadata": {},
   "outputs": [
    {
     "name": "stdout",
     "output_type": "stream",
     "text": [
      " +-------------+----------+\n",
      " |    XNOR     |          |\n",
      " | Truth Table |  Result  |\n",
      " |     A   B   | A XNOR B |\n",
      " |     0   0   |    1     | \n",
      " |     0   1   |    0     | \n",
      " |     1   0   |    0     | \n",
      " |     1   1   |    1     | \n",
      " +-------------+----------+\n"
     ]
    }
   ],
   "source": [
    "# Python3 program to illustrate \n",
    "# working of Not gate \n",
    "  \n",
    "def XNOR(a,b): \n",
    "    if(a == b): \n",
    "        return 1\n",
    "    else: \n",
    "        return 0\n",
    "# Driver code \n",
    "if __name__=='__main__': \n",
    "    print(' +-------------+----------+') \n",
    "    print(' |    XNOR     |          |')\n",
    "    print(' | Truth Table |  Result  |') \n",
    "    print(' |     A   B   | A XNOR B |')\n",
    "    print(' |     0   0   |   ',XNOR(0,0),'    | ') \n",
    "    print(' |     0   1   |   ',XNOR(0,1),'    | ') \n",
    "    print(' |     1   0   |   ',XNOR(1,0),'    | ') \n",
    "    print(' |     1   1   |   ',XNOR(1,1),'    | ') \n",
    "    print(' +-------------+----------+')    "
   ]
  },
  {
   "cell_type": "code",
   "execution_count": null,
   "metadata": {},
   "outputs": [],
   "source": []
  }
 ],
 "metadata": {
  "kernelspec": {
   "display_name": "Python 3",
   "language": "python",
   "name": "python3"
  },
  "language_info": {
   "codemirror_mode": {
    "name": "ipython",
    "version": 3
   },
   "file_extension": ".py",
   "mimetype": "text/x-python",
   "name": "python",
   "nbconvert_exporter": "python",
   "pygments_lexer": "ipython3",
   "version": "3.7.3"
  }
 },
 "nbformat": 4,
 "nbformat_minor": 2
}

{
 "cells": [
  {
   "cell_type": "raw",
   "metadata": {},
   "source": [
    "<script>\n",
    "  function code_toggle() {\n",
    "    if (code_shown){\n",
    "      $('div.input').hide('500');\n",
    "      $('#toggleButton').val('Show Code')\n",
    "    } else {\n",
    "      $('div.input').show('500');\n",
    "      $('#toggleButton').val('Hide Code')\n",
    "    }\n",
    "    code_shown = !code_shown\n",
    "  }\n",
    "\n",
    "  $( document ).ready(function(){\n",
    "    code_shown=false;\n",
    "    $('div.input').hide()\n",
    "  });\n",
    "</script>\n",
    "<form action=\"javascript:code_toggle()\"><input type=\"submit\" id=\"toggleButton\" value=\"Show Code\"></form>"
   ]
  },
  {
   "cell_type": "markdown",
   "metadata": {},
   "source": [
    "# Álgebra de Boole\n",
    "## Compuertas lógicas\n",
    "\n",
    "Una puerta lógica es un bloque de construcción elemental de cualquier circuito digital. Toma una o dos entradas y produce salidas basadas en esas entradas. Las salidas pueden ser altas (1) o bajas (0). Las puertas lógicas se implementan utilizando diodos o transistores. En una computadora, la mayoría de los circuitos electrónicos están formados por puertas lógicas.\n",
    "\n",
    "Hay siete puertas lógicas básicas definidas, estas son: AND gate, OR gate, NOT gate, NAND gate, NOR gate , XOR gate and XNOR gate."
   ]
  },
  {
   "cell_type": "markdown",
   "metadata": {},
   "source": [
    "## AND Gate\n",
    "La compuerta AND da una salida de 1 si las dos entradas son 1, de lo contrario da 0.\n",
    "\n",
    "![andpg](img/andpg.png)"
   ]
  },
  {
   "cell_type": "code",
   "execution_count": 1,
   "metadata": {},
   "outputs": [
    {
     "name": "stdout",
     "output_type": "stream",
     "text": [
      " +-------------+----------+\n",
      " |     AND     |          |\n",
      " | Truth Table |  Result  |\n",
      " |     A   B   |  A AND B |\n",
      " |     0   0   |    0     | \n",
      " |     0   1   |    0     | \n",
      " |     1   0   |    0     | \n",
      " |     1   1   |    1     | \n",
      " +-------------+----------+\n"
     ]
    }
   ],
   "source": [
    "# Python3 program to illustrate \n",
    "# working of AND gate \n",
    "  \n",
    "def AND (a, b): \n",
    "  \n",
    "    if a == 1 and b == 1: \n",
    "        return 1\n",
    "    else: \n",
    "        return 0\n",
    "\n",
    "# Driver code   \n",
    "if __name__=='__main__': \n",
    "\n",
    "    print(' +-------------+----------+') \n",
    "    print(' |     AND     |          |')\n",
    "    print(' | Truth Table |  Result  |') \n",
    "    print(' |     A   B   |  A AND B |')\n",
    "    print(' |     0   0   |   ',AND(0,0),'    | ') \n",
    "    print(' |     0   1   |   ',AND(0,1),'    | ') \n",
    "    print(' |     1   0   |   ',AND(1,0),'    | ') \n",
    "    print(' |     1   1   |   ',AND(1,1),'    | ') \n",
    "    print(' +-------------+----------+') "
   ]
  },
  {
   "cell_type": "markdown",
   "metadata": {},
   "source": [
    "## NAND GATE\n",
    "La compuerta NAND (AND negada) da una salida de 0 si ambas entradas son 1, de lo contrario da 1.\n",
    "\n",
    "![nand.png](img/nand.png)"
   ]
  },
  {
   "cell_type": "code",
   "execution_count": 24,
   "metadata": {},
   "outputs": [
    {
     "name": "stdout",
     "output_type": "stream",
     "text": [
      " +-------------+----------+\n",
      " |    NAND     |          |\n",
      " | Truth Table |  Result  |\n",
      " |     A   B   | A NAND B |\n",
      " |     0   0   |    1     | \n",
      " |     0   1   |    1     | \n",
      " |     1   0   |    1     | \n",
      " |     1   1   |    0     | \n",
      " +-------------+----------+\n"
     ]
    }
   ],
   "source": [
    "# Python3 program to illustrate \n",
    "# working of NAND gate \n",
    "  \n",
    "def NAND (a, b): \n",
    "    if a == 1 and b == 1: \n",
    "        return 0\n",
    "    else: \n",
    "        return 1\n",
    "\n",
    "# Driver code \n",
    "if __name__=='__main__': \n",
    "\n",
    "    print(' +-------------+----------+') \n",
    "    print(' |    NAND     |          |')\n",
    "    print(' | Truth Table |  Result  |') \n",
    "    print(' |     A   B   | A NAND B |')\n",
    "    print(' |     0   0   |   ',NAND(0,0),'    | ') \n",
    "    print(' |     0   1   |   ',NAND(0,1),'    | ') \n",
    "    print(' |     1   0   |   ',NAND(1,0),'    | ') \n",
    "    print(' |     1   1   |   ',NAND(1,1),'    | ') \n",
    "    print(' +-------------+----------+')     "
   ]
  },
  {
   "cell_type": "markdown",
   "metadata": {},
   "source": [
    "## OR Gate\n",
    "La puerta OR da una salida de 1 si cualquiera de las dos entradas es 1, de lo contrario da 0.\n",
    "\n",
    "![or-2.png](img/or-2.png)"
   ]
  },
  {
   "cell_type": "code",
   "execution_count": 25,
   "metadata": {},
   "outputs": [
    {
     "name": "stdout",
     "output_type": "stream",
     "text": [
      " +-------------+----------+\n",
      " |     OR      |          |\n",
      " | Truth Table |  Result  |\n",
      " |     A   B   |  A OR B  |\n",
      " |     0   0   |    0     | \n",
      " |     0   1   |    1     | \n",
      " |     1   0   |    1     | \n",
      " |     1   1   |    1     | \n",
      " +-------------+----------+\n"
     ]
    }
   ],
   "source": [
    "# Python3 program to illustrate \n",
    "# working of OR gate \n",
    "  \n",
    "def OR(a, b): \n",
    "    if a == 1: \n",
    "        return 1\n",
    "    elif b == 1: \n",
    "        return 1\n",
    "    else: \n",
    "        return 0\n",
    "\n",
    "# Driver code \n",
    "if __name__=='__main__': \n",
    "\n",
    "    print(' +-------------+----------+') \n",
    "    print(' |     OR      |          |')\n",
    "    print(' | Truth Table |  Result  |') \n",
    "    print(' |     A   B   |  A OR B  |')\n",
    "    print(' |     0   0   |   ',OR(0,0),'    | ') \n",
    "    print(' |     0   1   |   ',OR(0,1),'    | ') \n",
    "    print(' |     1   0   |   ',OR(1,0),'    | ') \n",
    "    print(' |     1   1   |   ',OR(1,1),'    | ') \n",
    "    print(' +-------------+----------+')     "
   ]
  },
  {
   "cell_type": "markdown",
   "metadata": {},
   "source": [
    "## XOR Gate\n",
    "La puerta XOR da una salida de 1 si ambas entradas son diferentes, da 0 si son iguales.\n",
    "![Xor.png](img/Xor.png)"
   ]
  },
  {
   "cell_type": "code",
   "execution_count": 29,
   "metadata": {},
   "outputs": [
    {
     "name": "stdout",
     "output_type": "stream",
     "text": [
      " +-------------+----------+\n",
      " |     XOR     |          |\n",
      " | Truth Table |  Result  |\n",
      " |     A   B   |  A OR B  |\n",
      " |     0   0   |    0     | \n",
      " |     0   1   |    1     | \n",
      " |     1   0   |    1     | \n",
      " |     1   1   |    0     | \n",
      " +-------------+----------+\n"
     ]
    }
   ],
   "source": [
    "# Python3 program to illustrate \n",
    "# working of XOR gate \n",
    "  \n",
    "def XOR(a, b): \n",
    "    if a != b: \n",
    "        return 1\n",
    "    else: \n",
    "        return 0\n",
    "\n",
    "# Driver code \n",
    "if __name__=='__main__': \n",
    "    print(' +-------------+----------+') \n",
    "    print(' |     XOR     |          |')\n",
    "    print(' | Truth Table |  Result  |') \n",
    "    print(' |     A   B   |  A OR B  |')\n",
    "    print(' |     0   0   |   ',XOR(0,0),'    | ') \n",
    "    print(' |     0   1   |   ',XOR(0,1),'    | ') \n",
    "    print(' |     1   0   |   ',XOR(1,0),'    | ') \n",
    "    print(' |     1   1   |   ',XOR(1,1),'    | ') \n",
    "    print(' +-------------+----------+')     "
   ]
  },
  {
   "cell_type": "markdown",
   "metadata": {},
   "source": [
    "## NOT Gate\n",
    "Actúa como un inversor. Solo se necesita una entrada. Si la entrada se da como 1, invertirá el resultado como 0 y viceversa.\n",
    "\n",
    "![Not.png](img/Not.png)"
   ]
  },
  {
   "cell_type": "code",
   "execution_count": 33,
   "metadata": {},
   "outputs": [
    {
     "name": "stdout",
     "output_type": "stream",
     "text": [
      " +-------------+----------+\n",
      " |     NOT     |          |\n",
      " | Truth Table |  Result  |\n",
      " |     A   B   |  A OR B  |\n",
      " |     0   0   |    1     | \n",
      " |     0   1   |    0     | \n",
      " +-------------+----------+\n"
     ]
    }
   ],
   "source": [
    "# Python3 program to illustrate \n",
    "# working of NOT gate \n",
    "\n",
    "def NOT(a): \n",
    "    if(a == 0): \n",
    "        return 1\n",
    "    elif(a == 1): \n",
    "        return 0\n",
    "    \n",
    "# Driver code \n",
    "if __name__=='__main__': \n",
    "    print(' +-------------+----------+') \n",
    "    print(' |     NOT     |          |')\n",
    "    print(' | Truth Table |  Result  |') \n",
    "    print(' |     A   B   |  A OR B  |')\n",
    "    print(' |     0   0   |   ',NOT(0),'    | ') \n",
    "    print(' |     0   1   |   ',NOT(1),'    | ') \n",
    "    print(' +-------------+----------+')     "
   ]
  },
  {
   "cell_type": "markdown",
   "metadata": {},
   "source": [
    "## NOR Gate\n",
    "La puerta NOR (OR negada) da una salida de 1 si ambas entradas son 0, de lo contrario da 1.\n",
    "\n",
    "![Nor.png](img/Nor.png)"
   ]
  },
  {
   "cell_type": "code",
   "execution_count": 35,
   "metadata": {},
   "outputs": [
    {
     "name": "stdout",
     "output_type": "stream",
     "text": [
      " +-------------+----------+\n",
      " |    NOR      |          |\n",
      " | Truth Table |  Result  |\n",
      " |     A   B   |  A NOR B |\n",
      " |     0   0   |    1     | \n",
      " |     0   1   |    0     | \n",
      " |     1   0   |    0     | \n",
      " |     1   1   |    0     | \n",
      " +-------------+----------+\n"
     ]
    }
   ],
   "source": [
    "# Python3 program to illustrate \n",
    "# working of NOR gate \n",
    "  \n",
    "def NOR(a, b): \n",
    "    if(a == 0) and (b == 0): \n",
    "        return 1\n",
    "    else: \n",
    "        return 0\n",
    "\n",
    "# Driver code \n",
    "if __name__=='__main__': \n",
    "\n",
    "    print(' +-------------+----------+') \n",
    "    print(' |    NOR      |          |')\n",
    "    print(' | Truth Table |  Result  |') \n",
    "    print(' |     A   B   |  A NOR B |')\n",
    "    print(' |     0   0   |   ',NOR(0,0),'    | ') \n",
    "    print(' |     0   1   |   ',NOR(0,1),'    | ') \n",
    "    print(' |     1   0   |   ',NOR(1,0),'    | ') \n",
    "    print(' |     1   1   |   ',NOR(1,1),'    | ') \n",
    "    print(' +-------------+----------+')     "
   ]
  },
  {
   "cell_type": "markdown",
   "metadata": {},
   "source": [
    "## XNOR Gate\n",
    "La puerta XNOR (XOR negado) da una salida de 1, ambas entradas son iguales y 0 si ambas son diferentes.\n",
    "\n",
    "![Xnor.png](img/Xnor.png)"
   ]
  },
  {
   "cell_type": "code",
   "execution_count": 36,
   "metadata": {},
   "outputs": [
    {
     "name": "stdout",
     "output_type": "stream",
     "text": [
      " +-------------+----------+\n",
      " |    XNOR     |          |\n",
      " | Truth Table |  Result  |\n",
      " |     A   B   | A XNOR B |\n",
      " |     0   0   |    1     | \n",
      " |     0   1   |    0     | \n",
      " |     1   0   |    0     | \n",
      " |     1   1   |    1     | \n",
      " +-------------+----------+\n"
     ]
    }
   ],
   "source": [
    "# Python3 program to illustrate \n",
    "# working of Not gate \n",
    "  \n",
    "def XNOR(a,b): \n",
    "    if(a == b): \n",
    "        return 1\n",
    "    else: \n",
    "        return 0\n",
    "# Driver code \n",
    "if __name__=='__main__': \n",
    "    print(' +-------------+----------+') \n",
    "    print(' |    XNOR     |          |')\n",
    "    print(' | Truth Table |  Result  |') \n",
    "    print(' |     A   B   | A XNOR B |')\n",
    "    print(' |     0   0   |   ',XNOR(0,0),'    | ') \n",
    "    print(' |     0   1   |   ',XNOR(0,1),'    | ') \n",
    "    print(' |     1   0   |   ',XNOR(1,0),'    | ') \n",
    "    print(' |     1   1   |   ',XNOR(1,1),'    | ') \n",
    "    print(' +-------------+----------+')    "
   ]
  },
  {
   "cell_type": "markdown",
   "metadata": {},
   "source": [
    "------------\n",
    "### Propiedad Conmutativa\n",
    "$$ A + B = B + A $$\n",
    "$$ A \\cdot B = B \\cdot A $$"
   ]
  },
  {
   "cell_type": "markdown",
   "metadata": {},
   "source": [
    "### Propiedad Distributiva\n",
    "$$ A \\cdot (B + C) = A \\cdot B + A \\cdot C $$\n",
    "$$ A + B \\cdot C = (A + B) \\cdot (A + C) $$"
   ]
  },
  {
   "cell_type": "markdown",
   "metadata": {},
   "source": [
    "### Elementos Neutros Diferentes\n",
    "$$ A + 0 = A $$\n",
    "$$ A \\cdot 1 = A $$"
   ]
  },
  {
   "cell_type": "markdown",
   "metadata": {},
   "source": [
    "### Anulación de variables\n",
    "$$ A \\cdot 0 = 0 $$\n",
    "$$ A + 1 = 1 $$"
   ]
  },
  {
   "cell_type": "markdown",
   "metadata": {},
   "source": [
    "### Propiedad \"idempotencia\"\n",
    "$$ A + A = A $$\n",
    "$$ A \\cdot A = A $$"
   ]
  },
  {
   "cell_type": "code",
   "execution_count": null,
   "metadata": {},
   "outputs": [],
   "source": []
  }
 ],
 "metadata": {
  "kernelspec": {
   "display_name": "Python 3",
   "language": "python",
   "name": "python3"
  },
  "language_info": {
   "codemirror_mode": {
    "name": "ipython",
    "version": 3
   },
   "file_extension": ".py",
   "mimetype": "text/x-python",
   "name": "python",
   "nbconvert_exporter": "python",
   "pygments_lexer": "ipython3",
   "version": "3.7.3"
  }
 },
 "nbformat": 4,
 "nbformat_minor": 2
}
